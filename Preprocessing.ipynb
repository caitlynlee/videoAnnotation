{
 "cells": [
  {
   "cell_type": "code",
   "execution_count": 2,
   "metadata": {},
   "outputs": [],
   "source": [
    "import os\n",
    "import subprocess"
   ]
  },
  {
   "cell_type": "code",
   "execution_count": 3,
   "metadata": {},
   "outputs": [],
   "source": [
    "cwd = os.getcwd()\n",
    "dataDir = os.path.join(cwd, 'data')\n",
    "videoDir = os.path.join(dataDir, 'rightLedge_FULLVIDEO')"
   ]
  },
  {
   "cell_type": "code",
   "execution_count": 22,
   "metadata": {},
   "outputs": [],
   "source": [
    "for clip in os.listdir(videoDir):\n",
    "    if clip.find('CLIP') == 0:\n",
    "        clipDir = os.path.join(dataDir, clip.split(\".\")[0])\n",
    "        os.makedirs(os.path.join(clipDir, 'FRAMES'))\n",
    "        os.makedirs(os.path.join(clipDir, 'DATA'))\n",
    "        os.makedirs(os.path.join(clipDir, 'VIDEO'))\n",
    "        os.makedirs(os.path.join(clipDir, 'TRACKED_FRAMES'))"
   ]
  },
  {
   "cell_type": "markdown",
   "metadata": {},
   "source": [
    "## Get frames from Videos"
   ]
  },
  {
   "cell_type": "markdown",
   "metadata": {},
   "source": [
    "`ffmpeg -i data/rightLedge_FULLVIDEO/CLIP_014.MP4 -vf fps=1 data/CLIP_014/FRAMES/frame_%04d.png `"
   ]
  },
  {
   "cell_type": "code",
   "execution_count": null,
   "metadata": {},
   "outputs": [],
   "source": []
  }
 ],
 "metadata": {
  "kernelspec": {
   "display_name": "Python 2",
   "language": "python",
   "name": "python2"
  },
  "language_info": {
   "codemirror_mode": {
    "name": "ipython",
    "version": 2
   },
   "file_extension": ".py",
   "mimetype": "text/x-python",
   "name": "python",
   "nbconvert_exporter": "python",
   "pygments_lexer": "ipython2",
   "version": "2.7.15"
  }
 },
 "nbformat": 4,
 "nbformat_minor": 2
}
