{
 "cells": [
  {
   "cell_type": "code",
   "execution_count": 1,
   "metadata": {},
   "outputs": [],
   "source": [
    "import tkinter as Tk\n",
    "from PIL import Image, ImageTk, ImageDraw, ImageFont\n",
    "import os\n",
    "import numpy as np\n",
    "import collections\n",
    "import csv\n",
    "from random import randint\n",
    "import pandas as pd"
   ]
  },
  {
   "cell_type": "code",
   "execution_count": 72,
   "metadata": {},
   "outputs": [],
   "source": [
    "clipNum = 'CLIP_011'"
   ]
  },
  {
   "cell_type": "code",
   "execution_count": 73,
   "metadata": {},
   "outputs": [],
   "source": [
    "cwd = os.getcwd()\n",
    "datadir = os.path.join(cwd, 'data', clipNum, 'FRAMES')\n",
    "\n",
    "n = len(os.listdir(datadir))\n",
    "currImg = 1\n",
    "\n",
    "positions = {}\n",
    "\n",
    "radius = 50"
   ]
  },
  {
   "cell_type": "code",
   "execution_count": 74,
   "metadata": {},
   "outputs": [
    {
     "name": "stdout",
     "output_type": "stream",
     "text": [
      "710\n"
     ]
    }
   ],
   "source": [
    "print n"
   ]
  },
  {
   "cell_type": "code",
   "execution_count": 5,
   "metadata": {},
   "outputs": [],
   "source": [
    "def onButtonPress(event):\n",
    "    canvas = event.widget\n",
    "\n",
    "    x = canvas.canvasx(event.x)\n",
    "    y = canvas.canvasy(event.y)\n",
    "    \n",
    "    if len(canvas.find_all()) == 2:\n",
    "        oldPos = canvas.coords(2)\n",
    "        canvas.move(2, x-radius-oldPos[0], y-radius-oldPos[1])\n",
    "    else:\n",
    "        circle = canvas.create_oval(x-radius, y-radius, \n",
    "                                    x+radius, y+radius,\n",
    "                                    outline=\"#f11\", width=2)\n",
    "    \n",
    "def onEsc(event, root, imageNum):\n",
    "    global positions\n",
    "    canvas = event.widget\n",
    "    if len(canvas.find_all()) == 2:\n",
    "        positions[imageNum] = canvas.coords(2)\n",
    "        #print positions[imageNum]\n",
    "        \n",
    "    root.destroy()\n",
    "    \n",
    "def size(event, mode='up'):\n",
    "    canvas = event.widget\n",
    "    \n",
    "    if len(canvas.find_all()) == 2:\n",
    "        oldPos = canvas.coords(2)\n",
    "        \n",
    "        if mode == 'up':\n",
    "            canvas.coords(2, oldPos[0], oldPos[1] - 10, oldPos[2], oldPos[3] + 10)\n",
    "        \n",
    "        if mode == 'down':\n",
    "            canvas.coords(2, oldPos[0], oldPos[1] + 10, oldPos[2], oldPos[3] - 10)\n",
    "            \n",
    "        if mode == 'right':\n",
    "            canvas.coords(2, oldPos[0] - 10, oldPos[1], oldPos[2] + 10, oldPos[3])\n",
    "            \n",
    "        if mode == 'left':\n",
    "            canvas.coords(2, oldPos[0] + 10, oldPos[1], oldPos[2] - 10, oldPos[3])\n",
    "    \n",
    "    \n",
    "def showFirst(event):\n",
    "    path = os.path.join(datadir, 'frame_%04d.png' % (start))\n",
    "    root = Tk.Tk()\n",
    "\n",
    "    canvas = Tk.Canvas(root, cursor=\"cross\")\n",
    "    canvas.pack(fill=Tk.BOTH, expand=1) # Stretch canvas to root window size.\n",
    "    canvas.focus_set()\n",
    "    canvas.bind(\"<h>\", lambda event: destroyFirst(event, root))\n",
    "\n",
    "    background_image = ImageTk.PhotoImage(Image.open(path).resize((1200,700)), master=root)\n",
    "    image = canvas.create_image(0, 0, anchor=Tk.NW, image=background_image)\n",
    "\n",
    "    guess = positions[start]\n",
    "    circle = canvas.create_oval(guess[0],guess[1],guess[2],guess[3],\n",
    "                               outline=\"#f11\", width=2)\n",
    "    root.wm_geometry(\"1200x700\")\n",
    "    root.title('First frame')\n",
    "    root.mainloop()\n",
    "                \n",
    "\n",
    "def destroyFirst(event, root):\n",
    "    root.destroy()\n",
    "    \n",
    "def quit(root):\n",
    "    global stop \n",
    "    stop = True\n",
    "    root.destroy()\n",
    "\n",
    "def showImage(imageNum, oldImageNum):\n",
    "    root = Tk.Tk()\n",
    "\n",
    "    canvas = Tk.Canvas(root, cursor=\"cross\")\n",
    "    canvas.pack(fill=Tk.BOTH, expand=1) # Stretch canvas to root window size.\n",
    "    canvas.focus_set()\n",
    "    canvas.bind(\"<Button-1>\", onButtonPress)\n",
    "    canvas.bind(\"<space>\", lambda event: onEsc(event, root, imageNum))\n",
    "    canvas.bind(\"<Up>\", lambda event: size(event, mode='up'))\n",
    "    canvas.bind(\"<Down>\", lambda event: size(event, mode='down'))\n",
    "    canvas.bind(\"<Left>\", lambda event: size(event, mode='left'))\n",
    "    canvas.bind(\"<Right>\", lambda event: size(event, mode='right'))\n",
    "    canvas.bind(\"<h>\", lambda event: showFirst(event))\n",
    "    canvas.bind(\"<q>\", lambda event: quit(root))\n",
    "    \n",
    "    if started and imageNum == start:\n",
    "        path = os.path.join('data/'+ clipNum +'/CLUSTERED_FRAMES', 'frame_%04d.png' % (imageNum))\n",
    "    else:\n",
    "        path = os.path.join(datadir, 'frame_%04d.png' % (imageNum))\n",
    "\n",
    "    \n",
    "    background_image = ImageTk.PhotoImage(Image.open(path).resize((1200,700)))\n",
    "    image = canvas.create_image(0, 0, anchor=Tk.NW, image=background_image)\n",
    "    \n",
    "    if oldImageNum in positions:\n",
    "        guess = positions[oldImageNum]\n",
    "        circle = canvas.create_oval(guess[0],guess[1],guess[2],guess[3],\n",
    "                                    outline=\"#f11\", width=2)\n",
    "    root.wm_geometry(\"1200x700\")\n",
    "    root.title('Frame %d' % imageNum)\n",
    "    root.mainloop()"
   ]
  },
  {
   "cell_type": "code",
   "execution_count": 6,
   "metadata": {},
   "outputs": [],
   "source": [
    "def getClusters(start, end, step=800):\n",
    "    for frame in range(start, end+1, step):\n",
    "        showImage(frame, frame-step)\n",
    "        if stop: break\n",
    "    \n",
    "    showImage(end, frame)"
   ]
  },
  {
   "cell_type": "code",
   "execution_count": 7,
   "metadata": {},
   "outputs": [],
   "source": [
    "def backfillPositions(positions, first, last):\n",
    "    #after tracking, fill in the rest of the positions\n",
    "    fullPositions = positions.copy()\n",
    "    od = collections.OrderedDict(sorted(positions.items()))\n",
    "    for frame, pos in od.iteritems(): \n",
    "        if frame == first: \n",
    "            lastFrame = first\n",
    "            continue\n",
    "        if lastFrame + 1 == frame:\n",
    "            lastFrame = frame\n",
    "            continue\n",
    "        else: \n",
    "            #print (\"doing interpolating\")\n",
    "            #some gap between tmpFrame (last frame seen) and curFrame\n",
    "            stepSize = np.subtract(pos, positions[lastFrame])/(frame - lastFrame)\n",
    "            for i in range(lastFrame + 1, frame):\n",
    "                fullPositions[i] = list(np.add(stepSize, fullPositions[i-1]))\n",
    "            lastFrame = frame\n",
    "            \n",
    "    if first > 1: \n",
    "        for i in range(1, first):\n",
    "            fullPositions[i] = [1166.0, 656.0, 1206.0, 696.0]\n",
    "    \n",
    "    if end < 710: \n",
    "        for i in range(last + 1, 711):\n",
    "            fullPositions[i] = [1166.0, 656.0, 1206.0, 696.0]\n",
    "            \n",
    "    fullSorted = collections.OrderedDict(sorted(fullPositions.items()))\n",
    "    return fullSorted"
   ]
  },
  {
   "cell_type": "code",
   "execution_count": 8,
   "metadata": {},
   "outputs": [],
   "source": [
    "def saveData(datafile, positions):\n",
    "    with open (datafile, 'a') as csvfile: \n",
    "        writer = csv.writer(csvfile, delimiter=',')\n",
    "        #Comment out after editing\n",
    "        writer.writerow([])\n",
    "        data = []\n",
    "        for frame, pos in positions.iteritems():\n",
    "            data.append(pos)\n",
    "        writer.writerow(data)"
   ]
  },
  {
   "cell_type": "code",
   "execution_count": 26,
   "metadata": {},
   "outputs": [],
   "source": [
    "def saveFirstFrame(sourceDir, destDir, positionsFile, start):\n",
    "    #take all positions and overlay on images, save as video\n",
    "    \n",
    "    df = pd.read_csv(positionsFile, header=None)\n",
    "    df.dropna(inplace=True)\n",
    "    colors = [(195, 195, 195) for x in df.index]\n",
    "    font = ImageFont.truetype(\"VCR_OSD_MONO_1.001.ttf\", 16)\n",
    "    for col in df.columns[start:start+1]: \n",
    "        path = os.path.join(sourceDir, 'frame_%04d.png' % (col))\n",
    "        newPath = os.path.join(destDir, 'frame_%04d.png' % (col))\n",
    "\n",
    "        img = Image.open(path, 'r')\n",
    "        img = img.resize((1200,700))\n",
    "        img_w, img_h = img.size\n",
    "        background = Image.new('RGBA', (img_w, img_h), (255, 255, 255, 255))\n",
    "        background.paste(img, (0,0))\n",
    "        draw = ImageDraw.Draw(background)\n",
    "        draw.text((20,20), str(col), (255,0,0), font=font)\n",
    "        for ID, person in enumerate(df[col]):\n",
    "            coords = [float(x) for x in person[1:-1].split(',')]\n",
    "            draw.ellipse(coords, outline=colors[ID], width=2)\n",
    "            draw.text((coords[0], coords[1]), str(ID), colors[ID], font=font)\n",
    "        background.save(newPath)"
   ]
  },
  {
   "cell_type": "markdown",
   "metadata": {},
   "source": [
    "---\n",
    "## DO NOT EDIT ABOVE THIS LINE"
   ]
  },
  {
   "cell_type": "code",
   "execution_count": 75,
   "metadata": {},
   "outputs": [],
   "source": [
    "started = False"
   ]
  },
  {
   "cell_type": "code",
   "execution_count": 77,
   "metadata": {},
   "outputs": [],
   "source": [
    "start = 1\n",
    "end = n\n",
    "\n",
    "stepSize = 50"
   ]
  },
  {
   "cell_type": "code",
   "execution_count": 78,
   "metadata": {
    "scrolled": false
   },
   "outputs": [],
   "source": [
    "positions = {}\n",
    "\n",
    "stop = False\n",
    "if started: \n",
    "    saveFirstFrame('data/' + clipNum + '/FRAMES', \n",
    "                   'data/'+ clipNum +'/CLUSTERED_FRAMES', \n",
    "                   'data/'+ clipNum +'/DATA/clusters_positions.csv',\n",
    "                    start)\n",
    "\n",
    "getClusters(start, end, step=stepSize)\n",
    "\n",
    "fullTest = backfillPositions(positions, start, end)"
   ]
  },
  {
   "cell_type": "code",
   "execution_count": 79,
   "metadata": {},
   "outputs": [],
   "source": [
    "saveData('data/' + clipNum + '/DATA/clusters_positions.csv', fullTest)"
   ]
  },
  {
   "cell_type": "code",
   "execution_count": null,
   "metadata": {},
   "outputs": [],
   "source": []
  }
 ],
 "metadata": {
  "kernelspec": {
   "display_name": "Python 2",
   "language": "python",
   "name": "python2"
  },
  "language_info": {
   "codemirror_mode": {
    "name": "ipython",
    "version": 2
   },
   "file_extension": ".py",
   "mimetype": "text/x-python",
   "name": "python",
   "nbconvert_exporter": "python",
   "pygments_lexer": "ipython2",
   "version": "2.7.15"
  }
 },
 "nbformat": 4,
 "nbformat_minor": 2
}
